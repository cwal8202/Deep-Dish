{
 "cells": [
  {
   "cell_type": "code",
   "execution_count": 2,
   "id": "e0cfd680",
   "metadata": {},
   "outputs": [
    {
     "name": "stdout",
     "output_type": "stream",
     "text": [
      "C:\\ai_x\\source\\Project\n"
     ]
    }
   ],
   "source": [
    "print(os.getcwd())"
   ]
  },
  {
   "cell_type": "code",
   "execution_count": 12,
   "id": "193d2f6d",
   "metadata": {},
   "outputs": [
    {
     "name": "stdout",
     "output_type": "stream",
     "text": [
      "src_root 존재 여부 : True\n",
      "dst_root 존재 여부 : True\n",
      "폴더 목록: ['KFC 신림역', '나인온스버거 서울대500동점', '롯데리아 구로디지털역점', '롯데리아 신림역점', '맥도날드 신림점', '버거락 신림역점', '버거운버거 서울대점', '버거킹 신림역점', '쉐이크쉑 신림점', '아토커피 신림점']\n"
     ]
    }
   ],
   "source": [
    "# 폴더 취합\n",
    "import os\n",
    "import shutil\n",
    "\n",
    "\n",
    "src_root = r'C:\\ai_x\\source\\Project\\모델링 테스트용\\raw_data'\n",
    "dst_root = r'C:\\ai_x\\source\\Project\\모델링 테스트용\\clean_data'\n",
    "\n",
    "print(\"src_root 존재 여부 :\", os.path.exists(src_root))\n",
    "print(\"dst_root 존재 여부 :\", os.path.exists(dst_root))\n",
    "print(\"폴더 목록:\", os.listdir(src_root) if os.path.exists(src_root) else \"❌ 폴더 없음\")\n",
    "os.makedirs(dst_root, exist_ok=True)\n",
    "\n",
    "for store in os.listdir(src_root):\n",
    "    store_path = os.path.join(src_root, store)\n",
    "    dst_store_path = os.path.join(dst_root, store)\n",
    "    os.makedirs(dst_store_path, exist_ok=True)\n",
    "\n",
    "    for subfolder in os.listdir(store_path):\n",
    "        subfolder_path = os.path.join(store_path, subfolder)\n",
    "\n",
    "        if os.path.isdir(subfolder_path):\n",
    "            for img_file in os.listdir(subfolder_path):\n",
    "                src_img = os.path.join(subfolder_path, img_file)\n",
    "                dst_img = os.path.join(dst_store_path, f\"{subfolder}_{img_file}\")\n",
    "                shutil.copy(src_img, dst_img)"
   ]
  },
  {
   "cell_type": "code",
   "execution_count": 20,
   "id": "09c39e0e",
   "metadata": {},
   "outputs": [
    {
     "name": "stdout",
     "output_type": "stream",
     "text": [
      "C:\\ai_x\\source\\Project\n"
     ]
    }
   ],
   "source": [
    "print(os.getcwd())"
   ]
  },
  {
   "cell_type": "code",
   "execution_count": 21,
   "id": "1642e76a",
   "metadata": {},
   "outputs": [
    {
     "name": "stdout",
     "output_type": "stream",
     "text": [
      "데이터셋 분할 완료!\n"
     ]
    }
   ],
   "source": [
    "import os\n",
    "import shutil\n",
    "from sklearn.model_selection import train_test_split\n",
    "\n",
    "original_dir = r\"C:\\ai_x\\source\\Project\\모델링 테스트용\\clean_data\" # 모델링용 테스트 이미지 데이터 \n",
    "\n",
    "# 분할 결과를 저장할 폴더\n",
    "base_dir = r\"C:\\ai_x\\source\\Project\\모델링 테스트용\\test_sample_data\"\n",
    "for split in ['train', 'val', 'test']:\n",
    "    for store in os.listdir(original_dir):\n",
    "        os.makedirs(os.path.join(base_dir, split, store), exist_ok=True)\n",
    "\n",
    "# 분할 비율 설정\n",
    "train_ratio = 0.7\n",
    "val_ratio = 0.15\n",
    "test_ratio = 0.15\n",
    "\n",
    "for store in os.listdir(original_dir):\n",
    "    store_path = os.path.join(original_dir, store)\n",
    "    images = os.listdir(store_path)\n",
    "\n",
    "    # train / val+test 분할\n",
    "    train_imgs, val_test_imgs = train_test_split(images, test_size=(1 - train_ratio), random_state=42)\n",
    "\n",
    "    # val / test 분할\n",
    "    val_imgs, test_imgs = train_test_split(val_test_imgs, test_size=test_ratio/(test_ratio + val_ratio), random_state=42)\n",
    "\n",
    "    # 이미지 복사 함수\n",
    "    def copy_images(img_list, split):\n",
    "        for img in img_list:\n",
    "            src = os.path.join(store_path, img)\n",
    "            dst = os.path.join(base_dir, split, store, img)\n",
    "            shutil.copy(src, dst)\n",
    "\n",
    "    copy_images(train_imgs, 'train')\n",
    "    copy_images(val_imgs, 'val')\n",
    "    copy_images(test_imgs, 'test')\n",
    "\n",
    "print(\"데이터셋 분할 완료!\")"
   ]
  },
  {
   "cell_type": "code",
   "execution_count": 24,
   "id": "aac3efc1",
   "metadata": {},
   "outputs": [
    {
     "name": "stdout",
     "output_type": "stream",
     "text": [
      "C:\\ai_x\\source\\Project\n"
     ]
    }
   ],
   "source": [
    "print(os.getcwd())"
   ]
  },
  {
   "cell_type": "code",
   "execution_count": 26,
   "id": "c6668c9f",
   "metadata": {},
   "outputs": [
    {
     "name": "stdout",
     "output_type": "stream",
     "text": [
      "Found 436 images belonging to 10 classes.\n",
      "Found 105 images belonging to 10 classes.\n"
     ]
    }
   ],
   "source": [
    "import tensorflow as tf\n",
    "from tensorflow.keras.preprocessing.image import ImageDataGenerator\n",
    "\n",
    "# 경로\n",
    "base_dir = r\"C:\\ai_x\\source\\Project\\모델링 테스트용\\test_sample_data\"\n",
    "# # 경로 확인용 출력\n",
    "# print(\"train 폴더 존재 여부:\", os.path.exists(os.path.join(base_dir, \"train\")))\n",
    "\n",
    "# 전처리 + 자동 라벨링\n",
    "datagen = ImageDataGenerator(rescale=1./255, validation_split=0.2)\n",
    "\n",
    "# 훈련 데이터\n",
    "train_gen = datagen.flow_from_directory(\n",
    "    base_dir + \"/train\",\n",
    "    target_size=(224, 224),\n",
    "    batch_size=16,\n",
    "    class_mode=\"categorical\",\n",
    "    subset=\"training\"\n",
    ")\n",
    "# 검증 데이터 \n",
    "val_gen = datagen.flow_from_directory(\n",
    "    base_dir + \"/train\",\n",
    "    target_size=(224, 224),\n",
    "    batch_size=16,\n",
    "    class_mode=\"categorical\",\n",
    "    subset=\"validation\"\n",
    ")"
   ]
  },
  {
   "cell_type": "code",
   "execution_count": 27,
   "id": "4b29d70d",
   "metadata": {},
   "outputs": [
    {
     "name": "stdout",
     "output_type": "stream",
     "text": [
      "Model: \"sequential\"\n",
      "_________________________________________________________________\n",
      " Layer (type)                Output Shape              Param #   \n",
      "=================================================================\n",
      " conv2d (Conv2D)             (None, 222, 222, 32)      896       \n",
      "                                                                 \n",
      " max_pooling2d (MaxPooling2D  (None, 111, 111, 32)     0         \n",
      " )                                                               \n",
      "                                                                 \n",
      " conv2d_1 (Conv2D)           (None, 109, 109, 64)      18496     \n",
      "                                                                 \n",
      " max_pooling2d_1 (MaxPooling  (None, 54, 54, 64)       0         \n",
      " 2D)                                                             \n",
      "                                                                 \n",
      " flatten (Flatten)           (None, 186624)            0         \n",
      "                                                                 \n",
      " dense (Dense)               (None, 128)               23888000  \n",
      "                                                                 \n",
      " dense_1 (Dense)             (None, 10)                1290      \n",
      "                                                                 \n",
      "=================================================================\n",
      "Total params: 23,908,682\n",
      "Trainable params: 23,908,682\n",
      "Non-trainable params: 0\n",
      "_________________________________________________________________\n"
     ]
    }
   ],
   "source": [
    "# 모델 만들기 \n",
    "from tensorflow.keras import layers,models,Sequential\n",
    "\n",
    "model = models.Sequential([\n",
    "    layers.Input(shape=(224, 224, 3)),\n",
    "    layers.Conv2D(32, 3, activation='relu'),\n",
    "    layers.MaxPooling2D(),\n",
    "    layers.Conv2D(64, 3, activation='relu'),\n",
    "    layers.MaxPooling2D(),\n",
    "    layers.Flatten(),\n",
    "    layers.Dense(128, activation='relu'),\n",
    "    layers.Dense(train_gen.num_classes, activation='softmax')\n",
    "])\n",
    "\n",
    "model.compile(optimizer='adam',\n",
    "              loss='categorical_crossentropy',\n",
    "              metrics=['accuracy'])\n",
    "\n",
    "model.summary()"
   ]
  },
  {
   "cell_type": "code",
   "execution_count": 28,
   "id": "8352eb90",
   "metadata": {
    "scrolled": true
   },
   "outputs": [
    {
     "name": "stdout",
     "output_type": "stream",
     "text": [
      "Epoch 1/10\n",
      "28/28 [==============================] - 27s 924ms/step - loss: 5.4438 - accuracy: 0.2592 - val_loss: 2.0660 - val_accuracy: 0.3524\n",
      "Epoch 2/10\n",
      "28/28 [==============================] - 21s 761ms/step - loss: 1.3497 - accuracy: 0.5872 - val_loss: 2.2152 - val_accuracy: 0.3905\n",
      "Epoch 3/10\n",
      "28/28 [==============================] - 26s 931ms/step - loss: 0.8030 - accuracy: 0.7317 - val_loss: 2.1743 - val_accuracy: 0.5238\n",
      "Epoch 4/10\n",
      "28/28 [==============================] - 23s 832ms/step - loss: 0.4425 - accuracy: 0.8394 - val_loss: 2.6260 - val_accuracy: 0.5238\n",
      "Epoch 5/10\n",
      "28/28 [==============================] - 25s 898ms/step - loss: 0.3206 - accuracy: 0.9037 - val_loss: 2.5290 - val_accuracy: 0.5238\n",
      "Epoch 6/10\n",
      "28/28 [==============================] - 24s 851ms/step - loss: 0.3049 - accuracy: 0.9014 - val_loss: 3.4181 - val_accuracy: 0.4762\n",
      "Epoch 7/10\n",
      "28/28 [==============================] - 23s 813ms/step - loss: 0.1935 - accuracy: 0.9312 - val_loss: 3.2174 - val_accuracy: 0.4952\n",
      "Epoch 8/10\n",
      "28/28 [==============================] - 23s 822ms/step - loss: 0.2027 - accuracy: 0.9312 - val_loss: 3.1376 - val_accuracy: 0.5238\n",
      "Epoch 9/10\n",
      "28/28 [==============================] - 21s 754ms/step - loss: 0.1770 - accuracy: 0.9312 - val_loss: 3.4345 - val_accuracy: 0.4952\n",
      "Epoch 10/10\n",
      "28/28 [==============================] - 23s 823ms/step - loss: 0.1309 - accuracy: 0.9472 - val_loss: 3.4587 - val_accuracy: 0.5524\n"
     ]
    },
    {
     "data": {
      "text/plain": [
       "<keras.callbacks.History at 0x1e07ab49900>"
      ]
     },
     "execution_count": 28,
     "metadata": {},
     "output_type": "execute_result"
    }
   ],
   "source": [
    "# 모델 학습\n",
    "model.fit(train_gen, validation_data=val_gen, epochs=10)"
   ]
  },
  {
   "cell_type": "code",
   "execution_count": 31,
   "id": "41715829",
   "metadata": {},
   "outputs": [
    {
     "name": "stdout",
     "output_type": "stream",
     "text": [
      "1/1 [==============================] - 0s 43ms/step\n",
      "예측된 가게: 버거락 신림역점\n"
     ]
    }
   ],
   "source": [
    "# 이미지 넣고 예측\n",
    "import numpy as np\n",
    "from tensorflow.keras.preprocessing import image\n",
    "\n",
    "img = image.load_img(r\"C:\\ai_x\\source\\Project\\모델링 테스트용\\test_sample_data\\test\\버거운버거 서울대점\\리뷰_이미지_개별리뷰_41_02.jpg\", target_size=(224, 224))\n",
    "img_array = image.img_to_array(img) / 255.0\n",
    "img_array = np.expand_dims(img_array, axis=0)  # [1, 224, 224, 3]\n",
    "\n",
    "prediction = model.predict(img_array)\n",
    "class_idx = np.argmax(prediction)\n",
    "\n",
    "# 클래스 이름 확인\n",
    "class_names = list(train_gen.class_indices.keys())\n",
    "print(\"예측된 가게:\", class_names[class_idx])\n"
   ]
  },
  {
   "cell_type": "code",
   "execution_count": null,
   "id": "11baf3f5",
   "metadata": {},
   "outputs": [],
   "source": []
  }
 ],
 "metadata": {
  "kernelspec": {
   "display_name": "Python 3 (ipykernel)",
   "language": "python",
   "name": "python3"
  },
  "language_info": {
   "codemirror_mode": {
    "name": "ipython",
    "version": 3
   },
   "file_extension": ".py",
   "mimetype": "text/x-python",
   "name": "python",
   "nbconvert_exporter": "python",
   "pygments_lexer": "ipython3",
   "version": "3.10.9"
  },
  "toc": {
   "base_numbering": 1,
   "nav_menu": {},
   "number_sections": false,
   "sideBar": true,
   "skip_h1_title": false,
   "title_cell": "Table of Contents",
   "title_sidebar": "Contents",
   "toc_cell": false,
   "toc_position": {},
   "toc_section_display": true,
   "toc_window_display": false
  }
 },
 "nbformat": 4,
 "nbformat_minor": 5
}
